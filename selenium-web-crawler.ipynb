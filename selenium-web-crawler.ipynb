{
 "cells": [
  {
   "cell_type": "markdown",
   "metadata": {},
   "source": [
    "# Import Libraries:  "
   ]
  },
  {
   "cell_type": "code",
   "execution_count": 2,
   "metadata": {},
   "outputs": [],
   "source": [
    "import pandas as pd \n",
    "from selenium import webdriver\n",
    "from webdriver_manager.chrome import ChromeDriverManager\n",
    "from selenium.webdriver.chrome.service import Service\n",
    "from selenium.webdriver.common.by import By\n",
    "import io\n",
    "from sqlalchemy import create_engine\n",
    "\n"
   ]
  },
  {
   "cell_type": "markdown",
   "metadata": {},
   "source": [
    "# Crawl website:"
   ]
  },
  {
   "cell_type": "code",
   "execution_count": 3,
   "metadata": {},
   "outputs": [],
   "source": [
    "service = Service(executable_path=ChromeDriverManager().install())\n",
    "driver = webdriver.Chrome(service=service)\n",
    "driver.get('https://coinmarketcap.com/currencies/bitcoin/historical-data/')\n",
    "\n",
    "\n",
    "for i in range (2):\n",
    "    button = driver.find_element(By.CSS_SELECTOR,\"#__next > div > div.main-content > div.sc-4vztjb-0.cLXodu.cmc-body-wrapper > div > div.sc-1prm8qw-0.bUVslT.container > div > div > div.history > p:nth-child(3) > button\")\n",
    "    driver.execute_script(\"arguments[0].click();\", button)  \n",
    "\n",
    "col_names = driver.find_elements(By.CSS_SELECTOR, \".stickyTop\")\n",
    "col_names_text = [i.text for i in col_names]\n",
    "\n",
    "rest_cols = []\n",
    "for i in range(1,8):\n",
    "    rest_col_list = driver.find_elements(By.CSS_SELECTOR, f\"td:nth-child({i})\") \n",
    "    col_list_text = [i.text for i in rest_col_list] \n",
    "    rest_cols.append(col_list_text)\n",
    "\n"
   ]
  },
  {
   "cell_type": "markdown",
   "metadata": {},
   "source": [
    "# Creating function to store in database"
   ]
  },
  {
   "cell_type": "code",
   "execution_count": 4,
   "metadata": {},
   "outputs": [],
   "source": [
    "def store_data(username, password, host, port, db_name, df,sql_table_name):\n",
    "\n",
    "        engine = create_engine(f'postgresql+psycopg2://{username}:{password}@{host}:{port}/{db_name}')\n",
    "\n",
    "        df.head(0).to_sql(sql_table_name, engine, if_exists='replace',index=False) #drops old table and creates new empty table\n",
    "\n",
    "        conn = engine.raw_connection()\n",
    "        cur = conn.cursor()\n",
    "        output = io.StringIO()\n",
    "        df.to_csv(output, sep='\\t', header=False, index=False)\n",
    "        output.seek(0)\n",
    "        contents = output.getvalue()\n",
    "        cur.copy_from(output, sql_table_name, null=\"\") # null values become ''\n",
    "        conn.commit()\n"
   ]
  },
  {
   "cell_type": "markdown",
   "metadata": {},
   "source": [
    "# Storing in Database:"
   ]
  },
  {
   "cell_type": "code",
   "execution_count": 5,
   "metadata": {},
   "outputs": [],
   "source": [
    "df = pd.DataFrame(rest_cols ).T\n",
    "df.columns = col_names_text\n",
    "\n",
    "\n",
    "store_data('postgres', '1234', 'localhost', '5432', 'coinmarketcap', df, 'btc2')"
   ]
  },
  {
   "cell_type": "code",
   "execution_count": null,
   "metadata": {},
   "outputs": [],
   "source": []
  }
 ],
 "metadata": {
  "kernelspec": {
   "display_name": "Python 3",
   "language": "python",
   "name": "python3"
  },
  "language_info": {
   "codemirror_mode": {
    "name": "ipython",
    "version": 3
   },
   "file_extension": ".py",
   "mimetype": "text/x-python",
   "name": "python",
   "nbconvert_exporter": "python",
   "pygments_lexer": "ipython3",
   "version": "3.8.5"
  }
 },
 "nbformat": 4,
 "nbformat_minor": 4
}
